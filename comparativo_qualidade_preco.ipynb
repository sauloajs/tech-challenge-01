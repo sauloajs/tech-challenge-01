{
 "cells": [
  {
   "cell_type": "code",
   "execution_count": 180,
   "metadata": {},
   "outputs": [],
   "source": [
    "import pandas as pd\n",
    "import seaborn as sns\n",
    "import matplotlib.pyplot as plt"
   ]
  },
  {
   "cell_type": "code",
   "execution_count": 181,
   "metadata": {},
   "outputs": [],
   "source": [
    "FULL_PATH = 'C:\\\\Users\\\\caval\\\\Documents\\\\tech-challenge-01'\n",
    "DOLAR_PRICE = 4.79"
   ]
  },
  {
   "cell_type": "code",
   "execution_count": 182,
   "metadata": {},
   "outputs": [],
   "source": [
    "italian_quality = pd.read_csv(f'{FULL_PATH}\\\\content\\\\italy_wine_scores.csv')\n",
    "french_quality = pd.read_csv(f'{FULL_PATH}\\\\content\\\\france_wine_scores.csv')\n",
    "spanish_quality = pd.read_csv(f'{FULL_PATH}\\\\content\\\\spain_wine_scores.csv')\n",
    "brazilian_quality = pd.read_csv(f'{FULL_PATH}\\\\content\\\\brazilian_wine_scores.csv')"
   ]
  },
  {
   "cell_type": "code",
   "execution_count": 183,
   "metadata": {},
   "outputs": [
    {
     "data": {
      "text/html": [
       "<div>\n",
       "<style scoped>\n",
       "    .dataframe tbody tr th:only-of-type {\n",
       "        vertical-align: middle;\n",
       "    }\n",
       "\n",
       "    .dataframe tbody tr th {\n",
       "        vertical-align: top;\n",
       "    }\n",
       "\n",
       "    .dataframe thead th {\n",
       "        text-align: right;\n",
       "    }\n",
       "</style>\n",
       "<table border=\"1\" class=\"dataframe\">\n",
       "  <thead>\n",
       "    <tr style=\"text-align: right;\">\n",
       "      <th></th>\n",
       "      <th>product</th>\n",
       "      <th>grape</th>\n",
       "      <th>score</th>\n",
       "      <th>avg_price_liter</th>\n",
       "    </tr>\n",
       "  </thead>\n",
       "  <tbody>\n",
       "    <tr>\n",
       "      <th>0</th>\n",
       "      <td>Tenuta San Guido  Sassicaia Bolgheri, Tuscany</td>\n",
       "      <td>Cabernet Franc - Cabernet  Sauvignon</td>\n",
       "      <td>95</td>\n",
       "      <td>2414.67</td>\n",
       "    </tr>\n",
       "    <tr>\n",
       "      <th>1</th>\n",
       "      <td>Marchesi Antinori  Tignanello Toscana IGT, Tus...</td>\n",
       "      <td>Cabernet - Sangiovese</td>\n",
       "      <td>94</td>\n",
       "      <td>1253.33</td>\n",
       "    </tr>\n",
       "    <tr>\n",
       "      <th>2</th>\n",
       "      <td>Ornellaia Bolgheri Superiore,  Tuscany</td>\n",
       "      <td>Bordeaux Blend Red</td>\n",
       "      <td>94</td>\n",
       "      <td>1730.67</td>\n",
       "    </tr>\n",
       "    <tr>\n",
       "      <th>3</th>\n",
       "      <td>Masseto Toscana IGT, Tuscany</td>\n",
       "      <td>Merlot</td>\n",
       "      <td>96</td>\n",
       "      <td>6817.33</td>\n",
       "    </tr>\n",
       "    <tr>\n",
       "      <th>4</th>\n",
       "      <td>Marchesi Antinori Solaia  Toscana IGT, Tuscany</td>\n",
       "      <td>Cabernet - Sangiovese</td>\n",
       "      <td>95</td>\n",
       "      <td>2556.00</td>\n",
       "    </tr>\n",
       "  </tbody>\n",
       "</table>\n",
       "</div>"
      ],
      "text/plain": [
       "                                             product  \\\n",
       "0      Tenuta San Guido  Sassicaia Bolgheri, Tuscany   \n",
       "1  Marchesi Antinori  Tignanello Toscana IGT, Tus...   \n",
       "2             Ornellaia Bolgheri Superiore,  Tuscany   \n",
       "3                       Masseto Toscana IGT, Tuscany   \n",
       "4     Marchesi Antinori Solaia  Toscana IGT, Tuscany   \n",
       "\n",
       "                                      grape  score  avg_price_liter  \n",
       "0    Cabernet Franc - Cabernet  Sauvignon       95          2414.67  \n",
       "1                   Cabernet - Sangiovese       94          1253.33  \n",
       "2                      Bordeaux Blend Red       94          1730.67  \n",
       "3                                  Merlot       96          6817.33  \n",
       "4                   Cabernet - Sangiovese       95          2556.00  "
      ]
     },
     "metadata": {},
     "output_type": "display_data"
    },
    {
     "data": {
      "text/html": [
       "<div>\n",
       "<style scoped>\n",
       "    .dataframe tbody tr th:only-of-type {\n",
       "        vertical-align: middle;\n",
       "    }\n",
       "\n",
       "    .dataframe tbody tr th {\n",
       "        vertical-align: top;\n",
       "    }\n",
       "\n",
       "    .dataframe thead th {\n",
       "        text-align: right;\n",
       "    }\n",
       "</style>\n",
       "<table border=\"1\" class=\"dataframe\">\n",
       "  <thead>\n",
       "    <tr style=\"text-align: right;\">\n",
       "      <th></th>\n",
       "      <th>product</th>\n",
       "      <th>grape</th>\n",
       "      <th>score</th>\n",
       "      <th>avg_price_liter</th>\n",
       "    </tr>\n",
       "  </thead>\n",
       "  <tbody>\n",
       "    <tr>\n",
       "      <th>0</th>\n",
       "      <td>Chateau Mouton  Rothschild, Pauillac</td>\n",
       "      <td>Bordeaux Blend Red</td>\n",
       "      <td>96.0</td>\n",
       "      <td>4789.33</td>\n",
       "    </tr>\n",
       "    <tr>\n",
       "      <th>1</th>\n",
       "      <td>Dom Perignon Brut, Champagne,</td>\n",
       "      <td>Champagne Blend</td>\n",
       "      <td>94.0</td>\n",
       "      <td>1862.67</td>\n",
       "    </tr>\n",
       "    <tr>\n",
       "      <th>2</th>\n",
       "      <td>Chateau Lafite  Rothschild, Pauillac</td>\n",
       "      <td>Bordeaux Blend Red</td>\n",
       "      <td>96.0</td>\n",
       "      <td>6504.00</td>\n",
       "    </tr>\n",
       "    <tr>\n",
       "      <th>3</th>\n",
       "      <td>Petrus, Pomerol</td>\n",
       "      <td>Merlot</td>\n",
       "      <td>96.0</td>\n",
       "      <td>2654.67</td>\n",
       "    </tr>\n",
       "    <tr>\n",
       "      <th>4</th>\n",
       "      <td>Chateau Margaux, Margaux</td>\n",
       "      <td>Bordeaux Blend Red</td>\n",
       "      <td>96.0</td>\n",
       "      <td>5102.67</td>\n",
       "    </tr>\n",
       "  </tbody>\n",
       "</table>\n",
       "</div>"
      ],
      "text/plain": [
       "                                product                   grape  score  \\\n",
       "0  Chateau Mouton  Rothschild, Pauillac    Bordeaux Blend Red     96.0   \n",
       "1         Dom Perignon Brut, Champagne,       Champagne Blend     94.0   \n",
       "2  Chateau Lafite  Rothschild, Pauillac    Bordeaux Blend Red     96.0   \n",
       "3                       Petrus, Pomerol                Merlot     96.0   \n",
       "4              Chateau Margaux, Margaux    Bordeaux Blend Red     96.0   \n",
       "\n",
       "   avg_price_liter  \n",
       "0          4789.33  \n",
       "1          1862.67  \n",
       "2          6504.00  \n",
       "3          2654.67  \n",
       "4          5102.67  "
      ]
     },
     "metadata": {},
     "output_type": "display_data"
    },
    {
     "data": {
      "text/html": [
       "<div>\n",
       "<style scoped>\n",
       "    .dataframe tbody tr th:only-of-type {\n",
       "        vertical-align: middle;\n",
       "    }\n",
       "\n",
       "    .dataframe tbody tr th {\n",
       "        vertical-align: top;\n",
       "    }\n",
       "\n",
       "    .dataframe thead th {\n",
       "        text-align: right;\n",
       "    }\n",
       "</style>\n",
       "<table border=\"1\" class=\"dataframe\">\n",
       "  <thead>\n",
       "    <tr style=\"text-align: right;\">\n",
       "      <th></th>\n",
       "      <th>product</th>\n",
       "      <th>grape</th>\n",
       "      <th>score</th>\n",
       "      <th>avg_price_liter</th>\n",
       "    </tr>\n",
       "  </thead>\n",
       "  <tbody>\n",
       "    <tr>\n",
       "      <th>0</th>\n",
       "      <td>Vega  Sicilia Unico Gran Reserva, Ribera del D...</td>\n",
       "      <td>Tempranillo</td>\n",
       "      <td>95.0</td>\n",
       "      <td>622.67</td>\n",
       "    </tr>\n",
       "    <tr>\n",
       "      <th>1</th>\n",
       "      <td>Bodegas Zugober Belezos 50/50, Rioja  DOCa</td>\n",
       "      <td>Rioja Red Blend</td>\n",
       "      <td>88.0</td>\n",
       "      <td>74.67</td>\n",
       "    </tr>\n",
       "    <tr>\n",
       "      <th>2</th>\n",
       "      <td>R. Lopez de  Heredia Vina Tondonia Reserva, Ri...</td>\n",
       "      <td>Rioja Red Blend</td>\n",
       "      <td>93.0</td>\n",
       "      <td>346.67</td>\n",
       "    </tr>\n",
       "    <tr>\n",
       "      <th>3</th>\n",
       "      <td>La Rioja Alta S.A. Gran  Reserva 904, Rioja DOCa</td>\n",
       "      <td>Rioja Red Blend</td>\n",
       "      <td>93.0</td>\n",
       "      <td>536.00</td>\n",
       "    </tr>\n",
       "    <tr>\n",
       "      <th>4</th>\n",
       "      <td>Marques  de Murrieta Castillo Ygay Gran Reserv...</td>\n",
       "      <td>Rioja Red Blend</td>\n",
       "      <td>93.0</td>\n",
       "      <td>93.33</td>\n",
       "    </tr>\n",
       "  </tbody>\n",
       "</table>\n",
       "</div>"
      ],
      "text/plain": [
       "                                             product                grape  \\\n",
       "0  Vega  Sicilia Unico Gran Reserva, Ribera del D...        Tempranillo     \n",
       "1         Bodegas Zugober Belezos 50/50, Rioja  DOCa    Rioja Red Blend     \n",
       "2  R. Lopez de  Heredia Vina Tondonia Reserva, Ri...    Rioja Red Blend     \n",
       "3   La Rioja Alta S.A. Gran  Reserva 904, Rioja DOCa    Rioja Red Blend     \n",
       "4  Marques  de Murrieta Castillo Ygay Gran Reserv...    Rioja Red Blend     \n",
       "\n",
       "   score  avg_price_liter  \n",
       "0   95.0           622.67  \n",
       "1   88.0            74.67  \n",
       "2   93.0           346.67  \n",
       "3   93.0           536.00  \n",
       "4   93.0            93.33  "
      ]
     },
     "metadata": {},
     "output_type": "display_data"
    },
    {
     "data": {
      "text/html": [
       "<div>\n",
       "<style scoped>\n",
       "    .dataframe tbody tr th:only-of-type {\n",
       "        vertical-align: middle;\n",
       "    }\n",
       "\n",
       "    .dataframe tbody tr th {\n",
       "        vertical-align: top;\n",
       "    }\n",
       "\n",
       "    .dataframe thead th {\n",
       "        text-align: right;\n",
       "    }\n",
       "</style>\n",
       "<table border=\"1\" class=\"dataframe\">\n",
       "  <thead>\n",
       "    <tr style=\"text-align: right;\">\n",
       "      <th></th>\n",
       "      <th>product</th>\n",
       "      <th>grape</th>\n",
       "      <th>score</th>\n",
       "      <th>avg_price_liter</th>\n",
       "    </tr>\n",
       "  </thead>\n",
       "  <tbody>\n",
       "    <tr>\n",
       "      <th>0</th>\n",
       "      <td>Vinicola  Campestre 'Pergola' Tinto de Mesa Se...</td>\n",
       "      <td>Red Blend</td>\n",
       "      <td>NaN</td>\n",
       "      <td>24.00</td>\n",
       "    </tr>\n",
       "    <tr>\n",
       "      <th>1</th>\n",
       "      <td>Lidio  Carraro Grande Vindima Merlot, Encruzil...</td>\n",
       "      <td>Merlot</td>\n",
       "      <td>90.0</td>\n",
       "      <td>384.00</td>\n",
       "    </tr>\n",
       "    <tr>\n",
       "      <th>2</th>\n",
       "      <td>Vinicola  Campestre 'Zanotto' Sangiovese, Camp...</td>\n",
       "      <td>Sangiovese</td>\n",
       "      <td>95.0</td>\n",
       "      <td>98.67</td>\n",
       "    </tr>\n",
       "    <tr>\n",
       "      <th>3</th>\n",
       "      <td>Lidio  Carraro Grande Vindima Tannat, Encruzil...</td>\n",
       "      <td>Tannat</td>\n",
       "      <td>90.0</td>\n",
       "      <td>645.33</td>\n",
       "    </tr>\n",
       "    <tr>\n",
       "      <th>4</th>\n",
       "      <td>Peterlongo  'Elegance' Blanc de Blancs Brut, R...</td>\n",
       "      <td>Chardonnay</td>\n",
       "      <td>88.0</td>\n",
       "      <td>212.00</td>\n",
       "    </tr>\n",
       "  </tbody>\n",
       "</table>\n",
       "</div>"
      ],
      "text/plain": [
       "                                             product           grape  score  \\\n",
       "0  Vinicola  Campestre 'Pergola' Tinto de Mesa Se...     Red Blend      NaN   \n",
       "1  Lidio  Carraro Grande Vindima Merlot, Encruzil...        Merlot     90.0   \n",
       "2  Vinicola  Campestre 'Zanotto' Sangiovese, Camp...    Sangiovese     95.0   \n",
       "3  Lidio  Carraro Grande Vindima Tannat, Encruzil...        Tannat     90.0   \n",
       "4  Peterlongo  'Elegance' Blanc de Blancs Brut, R...    Chardonnay     88.0   \n",
       "\n",
       "   avg_price_liter  \n",
       "0            24.00  \n",
       "1           384.00  \n",
       "2            98.67  \n",
       "3           645.33  \n",
       "4           212.00  "
      ]
     },
     "metadata": {},
     "output_type": "display_data"
    }
   ],
   "source": [
    "display(italian_quality.head())\n",
    "display(french_quality.head())\n",
    "display(spanish_quality.head())\n",
    "display(brazilian_quality.head())"
   ]
  },
  {
   "attachments": {},
   "cell_type": "markdown",
   "metadata": {},
   "source": []
  },
  {
   "cell_type": "code",
   "execution_count": 184,
   "metadata": {},
   "outputs": [],
   "source": [
    "french_quality['avg_price_liter'] = french_quality['avg_price_liter'] / DOLAR_PRICE\n",
    "italian_quality['avg_price_liter'] = italian_quality['avg_price_liter'] / DOLAR_PRICE\n",
    "spanish_quality['avg_price_liter'] = spanish_quality['avg_price_liter'] / DOLAR_PRICE\n",
    "brazilian_quality['avg_price_liter'] = brazilian_quality['avg_price_liter'] / DOLAR_PRICE"
   ]
  },
  {
   "cell_type": "code",
   "execution_count": 185,
   "metadata": {},
   "outputs": [],
   "source": [
    "brazilian_quality['score'] = brazilian_quality['score'].fillna(brazilian_quality['score'].mean())\n",
    "spanish_quality['score'] = spanish_quality['score'].fillna(spanish_quality['score'].mean())\n",
    "italian_quality['score'] = italian_quality['score'].fillna(italian_quality['score'].mean())\n",
    "french_quality['score'] = french_quality['score'].fillna(french_quality['score'].mean())\n"
   ]
  },
  {
   "cell_type": "code",
   "execution_count": 186,
   "metadata": {},
   "outputs": [
    {
     "data": {
      "text/plain": [
       "<Axes: xlabel='score', ylabel='avg_price_liter'>"
      ]
     },
     "execution_count": 186,
     "metadata": {},
     "output_type": "execute_result"
    },
    {
     "data": {
      "image/png": "[encoded data removed]",
      "text/plain": [
       "<Figure size 640x480 with 1 Axes>"
      ]
     },
     "metadata": {},
     "output_type": "display_data"
    }
   ],
   "source": [
    "sns.lineplot(data=french_quality, y='avg_price_liter', x='score', label='França', marker='o')\n",
    "sns.lineplot(data=brazilian_quality, y='avg_price_liter', x='score', label='Brasil', marker='o')\n",
    "sns.lineplot(data=italian_quality, y='avg_price_liter', x='score', label='Itália', marker='o')\n",
    "sns.lineplot(data=spanish_quality, y='avg_price_liter', x='score', label='Espanha', marker='o')\n"
   ]
  },
  {
   "cell_type": "code",
   "execution_count": 187,
   "metadata": {},
   "outputs": [
    {
     "data": {
      "text/plain": [
       "([94.0, 560.11], [92.9, 317.73], [88.3, 30.29], [91.9, 82.02])"
      ]
     },
     "execution_count": 187,
     "metadata": {},
     "output_type": "execute_result"
    }
   ],
   "source": [
    "median_wines = (\n",
    "    [\n",
    "        french_quality['score'].mean(numeric_only=True).round(1),\n",
    "        french_quality['avg_price_liter'].mean(numeric_only=True).round(2),\n",
    "    ],\n",
    "    [\n",
    "        italian_quality['score'].mean(numeric_only=True).round(1),\n",
    "        italian_quality['avg_price_liter'].mean(numeric_only=True).round(2),\n",
    "    ],\n",
    "    [\n",
    "        brazilian_quality['score'].mean(numeric_only=True).round(1),\n",
    "        brazilian_quality['avg_price_liter'].mean(numeric_only=True).round(2),\n",
    "    ],\n",
    "    [\n",
    "        spanish_quality['score'].mean(numeric_only=True).round(1),\n",
    "        spanish_quality['avg_price_liter'].mean(numeric_only=True).round(2)\n",
    "    ]\n",
    ")\n",
    "\n",
    "median_wines"
   ]
  },
  {
   "cell_type": "code",
   "execution_count": 188,
   "metadata": {},
   "outputs": [
    {
     "data": {
      "text/html": [
       "<div>\n",
       "<style scoped>\n",
       "    .dataframe tbody tr th:only-of-type {\n",
       "        vertical-align: middle;\n",
       "    }\n",
       "\n",
       "    .dataframe tbody tr th {\n",
       "        vertical-align: top;\n",
       "    }\n",
       "\n",
       "    .dataframe thead th {\n",
       "        text-align: right;\n",
       "    }\n",
       "</style>\n",
       "<table border=\"1\" class=\"dataframe\">\n",
       "  <thead>\n",
       "    <tr style=\"text-align: right;\">\n",
       "      <th></th>\n",
       "      <th>score</th>\n",
       "      <th>avg_price_liter</th>\n",
       "    </tr>\n",
       "  </thead>\n",
       "  <tbody>\n",
       "    <tr>\n",
       "      <th>França</th>\n",
       "      <td>94.0</td>\n",
       "      <td>560.11</td>\n",
       "    </tr>\n",
       "    <tr>\n",
       "      <th>Itália</th>\n",
       "      <td>92.9</td>\n",
       "      <td>317.73</td>\n",
       "    </tr>\n",
       "    <tr>\n",
       "      <th>Brazil</th>\n",
       "      <td>88.3</td>\n",
       "      <td>30.29</td>\n",
       "    </tr>\n",
       "    <tr>\n",
       "      <th>Espanha</th>\n",
       "      <td>91.9</td>\n",
       "      <td>82.02</td>\n",
       "    </tr>\n",
       "  </tbody>\n",
       "</table>\n",
       "</div>"
      ],
      "text/plain": [
       "         score  avg_price_liter\n",
       "França    94.0           560.11\n",
       "Itália    92.9           317.73\n",
       "Brazil    88.3            30.29\n",
       "Espanha   91.9            82.02"
      ]
     },
     "execution_count": 188,
     "metadata": {},
     "output_type": "execute_result"
    }
   ],
   "source": [
    "df = pd.DataFrame(median_wines, index=['França', 'Itália', 'Brazil', 'Espanha'], columns=['score', 'avg_price_liter'])\n",
    "df"
   ]
  },
  {
   "cell_type": "code",
   "execution_count": 189,
   "metadata": {},
   "outputs": [
    {
     "data": {
      "text/html": [
       "<div>\n",
       "<style scoped>\n",
       "    .dataframe tbody tr th:only-of-type {\n",
       "        vertical-align: middle;\n",
       "    }\n",
       "\n",
       "    .dataframe tbody tr th {\n",
       "        vertical-align: top;\n",
       "    }\n",
       "\n",
       "    .dataframe thead th {\n",
       "        text-align: right;\n",
       "    }\n",
       "</style>\n",
       "<table border=\"1\" class=\"dataframe\">\n",
       "  <thead>\n",
       "    <tr style=\"text-align: right;\">\n",
       "      <th></th>\n",
       "      <th>index</th>\n",
       "      <th>score</th>\n",
       "      <th>avg_price_liter</th>\n",
       "    </tr>\n",
       "  </thead>\n",
       "  <tbody>\n",
       "    <tr>\n",
       "      <th>0</th>\n",
       "      <td>França</td>\n",
       "      <td>94.0</td>\n",
       "      <td>560.11</td>\n",
       "    </tr>\n",
       "    <tr>\n",
       "      <th>1</th>\n",
       "      <td>Itália</td>\n",
       "      <td>92.9</td>\n",
       "      <td>317.73</td>\n",
       "    </tr>\n",
       "    <tr>\n",
       "      <th>2</th>\n",
       "      <td>Brazil</td>\n",
       "      <td>88.3</td>\n",
       "      <td>30.29</td>\n",
       "    </tr>\n",
       "    <tr>\n",
       "      <th>3</th>\n",
       "      <td>Espanha</td>\n",
       "      <td>91.9</td>\n",
       "      <td>82.02</td>\n",
       "    </tr>\n",
       "  </tbody>\n",
       "</table>\n",
       "</div>"
      ],
      "text/plain": [
       "     index  score  avg_price_liter\n",
       "0   França   94.0           560.11\n",
       "1   Itália   92.9           317.73\n",
       "2   Brazil   88.3            30.29\n",
       "3  Espanha   91.9            82.02"
      ]
     },
     "execution_count": 189,
     "metadata": {},
     "output_type": "execute_result"
    }
   ],
   "source": [
    "df.reset_index()"
   ]
  },
  {
   "cell_type": "code",
   "execution_count": 190,
   "metadata": {},
   "outputs": [],
   "source": [
    "df.reset_index(inplace=True)"
   ]
  },
  {
   "cell_type": "code",
   "execution_count": 191,
   "metadata": {},
   "outputs": [
    {
     "data": {
      "text/html": [
       "<div>\n",
       "<style scoped>\n",
       "    .dataframe tbody tr th:only-of-type {\n",
       "        vertical-align: middle;\n",
       "    }\n",
       "\n",
       "    .dataframe tbody tr th {\n",
       "        vertical-align: top;\n",
       "    }\n",
       "\n",
       "    .dataframe thead th {\n",
       "        text-align: right;\n",
       "    }\n",
       "</style>\n",
       "<table border=\"1\" class=\"dataframe\">\n",
       "  <thead>\n",
       "    <tr style=\"text-align: right;\">\n",
       "      <th></th>\n",
       "      <th>index</th>\n",
       "      <th>score</th>\n",
       "      <th>avg_price_liter</th>\n",
       "    </tr>\n",
       "  </thead>\n",
       "  <tbody>\n",
       "    <tr>\n",
       "      <th>0</th>\n",
       "      <td>França</td>\n",
       "      <td>94.0</td>\n",
       "      <td>560.11</td>\n",
       "    </tr>\n",
       "    <tr>\n",
       "      <th>1</th>\n",
       "      <td>Itália</td>\n",
       "      <td>92.9</td>\n",
       "      <td>317.73</td>\n",
       "    </tr>\n",
       "    <tr>\n",
       "      <th>2</th>\n",
       "      <td>Brazil</td>\n",
       "      <td>88.3</td>\n",
       "      <td>30.29</td>\n",
       "    </tr>\n",
       "    <tr>\n",
       "      <th>3</th>\n",
       "      <td>Espanha</td>\n",
       "      <td>91.9</td>\n",
       "      <td>82.02</td>\n",
       "    </tr>\n",
       "  </tbody>\n",
       "</table>\n",
       "</div>"
      ],
      "text/plain": [
       "     index  score  avg_price_liter\n",
       "0   França   94.0           560.11\n",
       "1   Itália   92.9           317.73\n",
       "2   Brazil   88.3            30.29\n",
       "3  Espanha   91.9            82.02"
      ]
     },
     "execution_count": 191,
     "metadata": {},
     "output_type": "execute_result"
    }
   ],
   "source": [
    "df"
   ]
  },
  {
   "cell_type": "code",
   "execution_count": 192,
   "metadata": {},
   "outputs": [],
   "source": [
    "df.columns = ['country', 'score', 'avg_price_liter']"
   ]
  },
  {
   "cell_type": "code",
   "execution_count": 193,
   "metadata": {},
   "outputs": [
    {
     "data": {
      "text/html": [
       "<div>\n",
       "<style scoped>\n",
       "    .dataframe tbody tr th:only-of-type {\n",
       "        vertical-align: middle;\n",
       "    }\n",
       "\n",
       "    .dataframe tbody tr th {\n",
       "        vertical-align: top;\n",
       "    }\n",
       "\n",
       "    .dataframe thead th {\n",
       "        text-align: right;\n",
       "    }\n",
       "</style>\n",
       "<table border=\"1\" class=\"dataframe\">\n",
       "  <thead>\n",
       "    <tr style=\"text-align: right;\">\n",
       "      <th></th>\n",
       "      <th>country</th>\n",
       "      <th>score</th>\n",
       "      <th>avg_price_liter</th>\n",
       "    </tr>\n",
       "  </thead>\n",
       "  <tbody>\n",
       "    <tr>\n",
       "      <th>0</th>\n",
       "      <td>França</td>\n",
       "      <td>94.0</td>\n",
       "      <td>560.11</td>\n",
       "    </tr>\n",
       "    <tr>\n",
       "      <th>1</th>\n",
       "      <td>Itália</td>\n",
       "      <td>92.9</td>\n",
       "      <td>317.73</td>\n",
       "    </tr>\n",
       "    <tr>\n",
       "      <th>2</th>\n",
       "      <td>Brazil</td>\n",
       "      <td>88.3</td>\n",
       "      <td>30.29</td>\n",
       "    </tr>\n",
       "    <tr>\n",
       "      <th>3</th>\n",
       "      <td>Espanha</td>\n",
       "      <td>91.9</td>\n",
       "      <td>82.02</td>\n",
       "    </tr>\n",
       "  </tbody>\n",
       "</table>\n",
       "</div>"
      ],
      "text/plain": [
       "   country  score  avg_price_liter\n",
       "0   França   94.0           560.11\n",
       "1   Itália   92.9           317.73\n",
       "2   Brazil   88.3            30.29\n",
       "3  Espanha   91.9            82.02"
      ]
     },
     "execution_count": 193,
     "metadata": {},
     "output_type": "execute_result"
    }
   ],
   "source": [
    "df"
   ]
  },
  {
   "cell_type": "code",
   "execution_count": 218,
   "metadata": {},
   "outputs": [
    {
     "data": {
      "image/png": "[encoded data removed]",
      "text/plain": [
       "<Figure size 1800x500 with 1 Axes>"
      ]
     },
     "metadata": {},
     "output_type": "display_data"
    }
   ],
   "source": [
    "plt.figure(figsize=(18,5))\n",
    "\n",
    "ax = sns.pointplot(data=df, x='score', y='avg_price_liter', hue='country', scale=1.5)\n",
    "ax.set_xlabel(\"Média de preço por litro\")\n",
    "ax.set_ylabel(\"Avalição\")\n",
    "\n",
    "ax.set_title(\"Avaliação x Média de valor por litro dos vinhos mais populares\")\n",
    "\n",
    "plt.legend(bbox_to_anchor=(1.05, 1.05), loc='upper left', borderaxespad=0, title=\"Pais\")\n",
    "plt.ylim(0, 600)\n",
    "plt.grid(color='gray', linestyle='--', linewidth=0.3)\n",
    "plt.show()"
   ]
  }
 ],
 "metadata": {
  "kernelspec": {
   "display_name": "base",
   "language": "python",
   "name": "python3"
  },
  "language_info": {
   "codemirror_mode": {
    "name": "ipython",
    "version": 3
   },
   "file_extension": ".py",
   "mimetype": "text/x-python",
   "name": "python",
   "nbconvert_exporter": "python",
   "pygments_lexer": "ipython3",
   "version": "3.10.9"
  },
  "orig_nbformat": 4
 },
 "nbformat": 4,
 "nbformat_minor": 2
}
