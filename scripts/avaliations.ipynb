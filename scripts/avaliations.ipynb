{
 "cells": [
  {
   "cell_type": "code",
   "execution_count": 1,
   "metadata": {},
   "outputs": [],
   "source": [
    "import pandas as pd\n",
    "import requests\n",
    "import re\n",
    "\n",
    "FULL_PATH = \"C:/Users/caval/Documents/tech-challenge-01\""
   ]
  },
  {
   "cell_type": "code",
   "execution_count": 2,
   "metadata": {},
   "outputs": [
    {
     "data": {
      "text/plain": [
       "403"
      ]
     },
     "execution_count": 2,
     "metadata": {},
     "output_type": "execute_result"
    }
   ],
   "source": [
    "request = requests.get(\"https://www.wine-searcher.com/regions-rio+grande+do+sul?tab_F=mostpopular#winesortlist\")\n",
    "request.status_code"
   ]
  },
  {
   "cell_type": "code",
   "execution_count": 21,
   "metadata": {},
   "outputs": [],
   "source": [
    "def format_wine_data(row, data_type):\n",
    "    if (data_type == 'product'):\n",
    "        return row.split('Brazil')[0][:-2]\n",
    "    \n",
    "    if (data_type == 'grape'):\n",
    "        mixed_string = row.split('Brazil')[-1]\n",
    "        return mixed_string[:re.search(r'\\d', mixed_string).start()]\n",
    "    \n",
    "    if (data_type == 'score'):\n",
    "        splitted_data = row.split('/')\n",
    "        \n",
    "        if ('100' in splitted_data[-1]):\n",
    "            score = splitted_data[-2][-3:].strip()\n",
    "            return int(score)\n",
    "        else:\n",
    "            return\n",
    "    if (data_type == 'avg_price_liter'):\n",
    "        price_750_ml = int(row[row.find(\"R$\") - 5 : row.find(\"R$\")].strip().replace(\",\", \"\"))\n",
    "        liter = price_750_ml + (price_750_ml / 3)\n",
    "        return float(\"{:.2f}\".format(liter))"
   ]
  },
  {
   "cell_type": "code",
   "execution_count": 22,
   "metadata": {},
   "outputs": [
    {
     "data": {
      "text/html": [
       "<div>\n",
       "<style scoped>\n",
       "    .dataframe tbody tr th:only-of-type {\n",
       "        vertical-align: middle;\n",
       "    }\n",
       "\n",
       "    .dataframe tbody tr th {\n",
       "        vertical-align: top;\n",
       "    }\n",
       "\n",
       "    .dataframe thead th {\n",
       "        text-align: right;\n",
       "    }\n",
       "</style>\n",
       "<table border=\"1\" class=\"dataframe\">\n",
       "  <thead>\n",
       "    <tr style=\"text-align: right;\">\n",
       "      <th></th>\n",
       "      <th>product</th>\n",
       "      <th>grape</th>\n",
       "      <th>score</th>\n",
       "      <th>avg_price_liter</th>\n",
       "    </tr>\n",
       "  </thead>\n",
       "  <tbody>\n",
       "  </tbody>\n",
       "</table>\n",
       "</div>"
      ],
      "text/plain": [
       "Empty DataFrame\n",
       "Columns: [product, grape, score, avg_price_liter]\n",
       "Index: []"
      ]
     },
     "execution_count": 22,
     "metadata": {},
     "output_type": "execute_result"
    }
   ],
   "source": [
    "columns = ['product', 'grape', 'score', 'avg_price_liter']\n",
    "dataset = pd.DataFrame(columns=columns)\n",
    "dataset"
   ]
  },
  {
   "cell_type": "code",
   "execution_count": 23,
   "metadata": {},
   "outputs": [],
   "source": [
    "for x in range(1, 6):\n",
    "    file = open(f'{FULL_PATH}/scripts/{x}.html')\n",
    "    data = pd.read_html(file.read())\n",
    "    data = data[0]\n",
    "    \n",
    "    data = data.reset_index(drop=True)\n",
    "    \n",
    "    data.columns = ['temp1', 'temp2']\n",
    "    \n",
    "    for column in columns:\n",
    "        data[column] = data['temp2'].apply(format_wine_data, data_type=column)\n",
    "        \n",
    "    data = data.drop(['temp1', 'temp2'], axis=1)\n",
    "    \n",
    "    dataset = pd.concat([dataset, data])"
   ]
  },
  {
   "cell_type": "code",
   "execution_count": 24,
   "metadata": {},
   "outputs": [],
   "source": [
    "dataset = dataset.set_index('product')\n",
    "dataset.to_csv(f'{FULL_PATH}/scripts/brazilian_wine_scores.csv')"
   ]
  },
  {
   "cell_type": "code",
   "execution_count": null,
   "metadata": {},
   "outputs": [],
   "source": []
  },
  {
   "cell_type": "code",
   "execution_count": 19,
   "metadata": {},
   "outputs": [
    {
     "data": {
      "text/html": [
       "<div>\n",
       "<style scoped>\n",
       "    .dataframe tbody tr th:only-of-type {\n",
       "        vertical-align: middle;\n",
       "    }\n",
       "\n",
       "    .dataframe tbody tr th {\n",
       "        vertical-align: top;\n",
       "    }\n",
       "\n",
       "    .dataframe thead th {\n",
       "        text-align: right;\n",
       "    }\n",
       "</style>\n",
       "<table border=\"1\" class=\"dataframe\">\n",
       "  <thead>\n",
       "    <tr style=\"text-align: right;\">\n",
       "      <th></th>\n",
       "      <th>product</th>\n",
       "      <th>grape</th>\n",
       "      <th>score</th>\n",
       "      <th>avg_price_liter</th>\n",
       "    </tr>\n",
       "  </thead>\n",
       "  <tbody>\n",
       "    <tr>\n",
       "      <th>0</th>\n",
       "      <td>Vega  Sicilia Unico Gran Reserva, Ribera del D...</td>\n",
       "      <td>Tempranillo</td>\n",
       "      <td>95</td>\n",
       "      <td>622.67</td>\n",
       "    </tr>\n",
       "    <tr>\n",
       "      <th>1</th>\n",
       "      <td>Bodegas Zugober Belezos 50/50, Rioja  DOCa</td>\n",
       "      <td>Rioja Red Blend</td>\n",
       "      <td>88</td>\n",
       "      <td>74.67</td>\n",
       "    </tr>\n",
       "    <tr>\n",
       "      <th>2</th>\n",
       "      <td>R. Lopez de  Heredia Vina Tondonia Reserva, Ri...</td>\n",
       "      <td>Rioja Red Blend</td>\n",
       "      <td>93</td>\n",
       "      <td>346.67</td>\n",
       "    </tr>\n",
       "    <tr>\n",
       "      <th>3</th>\n",
       "      <td>La Rioja Alta S.A. Gran  Reserva 904, Rioja DOCa</td>\n",
       "      <td>Rioja Red Blend</td>\n",
       "      <td>93</td>\n",
       "      <td>536.00</td>\n",
       "    </tr>\n",
       "    <tr>\n",
       "      <th>4</th>\n",
       "      <td>Marques  de Murrieta Castillo Ygay Gran Reserv...</td>\n",
       "      <td>Rioja Red Blend</td>\n",
       "      <td>93</td>\n",
       "      <td>93.33</td>\n",
       "    </tr>\n",
       "    <tr>\n",
       "      <th>...</th>\n",
       "      <td>...</td>\n",
       "      <td>...</td>\n",
       "      <td>...</td>\n",
       "      <td>...</td>\n",
       "    </tr>\n",
       "    <tr>\n",
       "      <th>20</th>\n",
       "      <td>Bodegas Juan  Gil 18 Meses Blue Label Monastre...</td>\n",
       "      <td>Monastrell</td>\n",
       "      <td>91</td>\n",
       "      <td>214.67</td>\n",
       "    </tr>\n",
       "    <tr>\n",
       "      <th>21</th>\n",
       "      <td>Beronia Gran Reserva, Rioja DOCa,</td>\n",
       "      <td>Tempranillo</td>\n",
       "      <td>90</td>\n",
       "      <td>222.67</td>\n",
       "    </tr>\n",
       "    <tr>\n",
       "      <th>22</th>\n",
       "      <td>Bodegas  Toro Albala Don PX Gran Reserva, Mont...</td>\n",
       "      <td>Pedro Ximenez</td>\n",
       "      <td>91</td>\n",
       "      <td>437.33</td>\n",
       "    </tr>\n",
       "    <tr>\n",
       "      <th>23</th>\n",
       "      <td>Torres Sangre de Toro  Original, Catalonia</td>\n",
       "      <td>Carinena - Garnacha</td>\n",
       "      <td>85</td>\n",
       "      <td>65.33</td>\n",
       "    </tr>\n",
       "    <tr>\n",
       "      <th>24</th>\n",
       "      <td>CVNE 'Cune' Crianza, Rioja DOCa,</td>\n",
       "      <td>Rioja Red Blend</td>\n",
       "      <td>88</td>\n",
       "      <td>90.67</td>\n",
       "    </tr>\n",
       "  </tbody>\n",
       "</table>\n",
       "<p>125 rows × 4 columns</p>\n",
       "</div>"
      ],
      "text/plain": [
       "                                              product  \\\n",
       "0   Vega  Sicilia Unico Gran Reserva, Ribera del D...   \n",
       "1          Bodegas Zugober Belezos 50/50, Rioja  DOCa   \n",
       "2   R. Lopez de  Heredia Vina Tondonia Reserva, Ri...   \n",
       "3    La Rioja Alta S.A. Gran  Reserva 904, Rioja DOCa   \n",
       "4   Marques  de Murrieta Castillo Ygay Gran Reserv...   \n",
       "..                                                ...   \n",
       "20  Bodegas Juan  Gil 18 Meses Blue Label Monastre...   \n",
       "21                  Beronia Gran Reserva, Rioja DOCa,   \n",
       "22  Bodegas  Toro Albala Don PX Gran Reserva, Mont...   \n",
       "23         Torres Sangre de Toro  Original, Catalonia   \n",
       "24                   CVNE 'Cune' Crianza, Rioja DOCa,   \n",
       "\n",
       "                      grape score  avg_price_liter  \n",
       "0             Tempranillo      95           622.67  \n",
       "1         Rioja Red Blend      88            74.67  \n",
       "2         Rioja Red Blend      93           346.67  \n",
       "3         Rioja Red Blend      93           536.00  \n",
       "4         Rioja Red Blend      93            93.33  \n",
       "..                      ...   ...              ...  \n",
       "20             Monastrell      91           214.67  \n",
       "21            Tempranillo      90           222.67  \n",
       "22          Pedro Ximenez      91           437.33  \n",
       "23    Carinena - Garnacha      85            65.33  \n",
       "24        Rioja Red Blend      88            90.67  \n",
       "\n",
       "[125 rows x 4 columns]"
      ]
     },
     "execution_count": 19,
     "metadata": {},
     "output_type": "execute_result"
    }
   ],
   "source": [
    "dataset"
   ]
  }
 ],
 "metadata": {
  "kernelspec": {
   "display_name": "Python 3 (ipykernel)",
   "language": "python",
   "name": "python3"
  },
  "language_info": {
   "codemirror_mode": {
    "name": "ipython",
    "version": 3
   },
   "file_extension": ".py",
   "mimetype": "text/x-python",
   "name": "python",
   "nbconvert_exporter": "python",
   "pygments_lexer": "ipython3",
   "version": "3.10.9"
  }
 },
 "nbformat": 4,
 "nbformat_minor": 4
}
