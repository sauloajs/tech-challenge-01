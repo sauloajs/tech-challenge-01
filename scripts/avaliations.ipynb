{
 "cells": [
  {
   "cell_type": "code",
   "execution_count": 1,
   "metadata": {},
   "outputs": [],
   "source": [
    "import pandas as pd\n",
    "import requests\n",
    "import re\n",
    "\n",
    "FULL_PATH = \"C:/Users/caval/Documents/tech-challenge-01\""
   ]
  },
  {
   "cell_type": "code",
   "execution_count": 2,
   "metadata": {},
   "outputs": [
    {
     "data": {
      "text/plain": [
       "403"
      ]
     },
     "execution_count": 2,
     "metadata": {},
     "output_type": "execute_result"
    }
   ],
   "source": [
    "request = requests.get(\"https://www.wine-searcher.com/regions-rio+grande+do+sul?tab_F=mostpopular#winesortlist\")\n",
    "request.status_code"
   ]
  },
  {
   "cell_type": "code",
   "execution_count": 3,
   "metadata": {},
   "outputs": [],
   "source": [
    "def format_wine_data(row, data_type):\n",
    "    if (data_type == 'product'):\n",
    "        return row.split('Brazil')[0][:-2]\n",
    "    \n",
    "    if (data_type == 'grape'):\n",
    "        mixed_string = row.split('Brazil')[-1]\n",
    "        return mixed_string[:re.search(r'\\d', mixed_string).start()]\n",
    "    \n",
    "    if (data_type == 'score'):\n",
    "        splitted_data = row.split('/')\n",
    "        \n",
    "        if ('100' in splitted_data[-1]):\n",
    "            score = splitted_data[-2][-3:].strip()\n",
    "            return int(score)\n",
    "        else:\n",
    "            return\n",
    "    if (data_type == 'avg_price_liter'):\n",
    "        price_750_ml = int(row[row.find(\"R$\") - 5 : row.find(\"R$\")].strip())\n",
    "        liter = price_750_ml + (price_750_ml / 3)\n",
    "        return float(\"{:.2f}\".format(liter))"
   ]
  },
  {
   "cell_type": "code",
   "execution_count": 4,
   "metadata": {},
   "outputs": [
    {
     "data": {
      "text/html": [
       "<div>\n",
       "<style scoped>\n",
       "    .dataframe tbody tr th:only-of-type {\n",
       "        vertical-align: middle;\n",
       "    }\n",
       "\n",
       "    .dataframe tbody tr th {\n",
       "        vertical-align: top;\n",
       "    }\n",
       "\n",
       "    .dataframe thead th {\n",
       "        text-align: right;\n",
       "    }\n",
       "</style>\n",
       "<table border=\"1\" class=\"dataframe\">\n",
       "  <thead>\n",
       "    <tr style=\"text-align: right;\">\n",
       "      <th></th>\n",
       "      <th>product</th>\n",
       "      <th>grape</th>\n",
       "      <th>score</th>\n",
       "      <th>avg_price_liter</th>\n",
       "    </tr>\n",
       "  </thead>\n",
       "  <tbody>\n",
       "  </tbody>\n",
       "</table>\n",
       "</div>"
      ],
      "text/plain": [
       "Empty DataFrame\n",
       "Columns: [product, grape, score, avg_price_liter]\n",
       "Index: []"
      ]
     },
     "execution_count": 4,
     "metadata": {},
     "output_type": "execute_result"
    }
   ],
   "source": [
    "columns = ['product', 'grape', 'score', 'avg_price_liter']\n",
    "dataset = pd.DataFrame(columns=columns)\n",
    "dataset"
   ]
  },
  {
   "cell_type": "code",
   "execution_count": 5,
   "metadata": {},
   "outputs": [],
   "source": [
    "for x in range(1, 6):\n",
    "    file = open(f'{FULL_PATH}/scripts/{x}.html')\n",
    "    data = pd.read_html(file.read())\n",
    "    data = data[0]\n",
    "    \n",
    "    data = data.reset_index(drop=True)\n",
    "    \n",
    "    data.columns = ['temp1', 'temp2']\n",
    "    \n",
    "    for column in columns:\n",
    "        data[column] = data['temp2'].apply(format_wine_data, data_type=column)\n",
    "        \n",
    "    data = data.drop(['temp1', 'temp2'], axis=1)\n",
    "    \n",
    "    dataset = pd.concat([dataset, data])"
   ]
  },
  {
   "cell_type": "code",
   "execution_count": 6,
   "metadata": {},
   "outputs": [],
   "source": [
    "dataset.to_csv(f'{FULL_PATH}/content/wine_scores.csv')"
   ]
  }
 ],
 "metadata": {
  "kernelspec": {
   "display_name": "Python 3 (ipykernel)",
   "language": "python",
   "name": "python3"
  },
  "language_info": {
   "codemirror_mode": {
    "name": "ipython",
    "version": 3
   },
   "file_extension": ".py",
   "mimetype": "text/x-python",
   "name": "python",
   "nbconvert_exporter": "python",
   "pygments_lexer": "ipython3",
   "version": "3.10.9"
  }
 },
 "nbformat": 4,
 "nbformat_minor": 4
}
