{
 "cells": [
  {
   "cell_type": "code",
   "execution_count": 1,
   "id": "ef805d02-2668-4e26-9509-f71fb295d362",
   "metadata": {},
   "outputs": [],
   "source": [
    "import pandas as pd\n",
    "import seaborn as sns\n",
    "import matplotlib.pyplot as plt"
   ]
  },
  {
   "cell_type": "code",
   "execution_count": null,
   "id": "ed9eaeb4",
   "metadata": {},
   "outputs": [],
   "source": [
    "FULL_PATH = 'C:\\\\Users\\\\caval\\\\Documents\\\\tech-challenge-01\\\\content'"
   ]
  },
  {
   "cell_type": "code",
   "execution_count": null,
   "id": "bfc175ef-61dc-4269-aeea-27c9e49513e1",
   "metadata": {},
   "outputs": [],
   "source": [
    "data = pd.read_csv(f'{FULL_PATH}\\\\content\\\\dados-clima.csv')"
   ]
  }
 ],
 "metadata": {
  "kernelspec": {
   "display_name": "Python 3 (ipykernel)",
   "language": "python",
   "name": "python3"
  },
  "language_info": {
   "codemirror_mode": {
    "name": "ipython",
    "version": 3
   },
   "file_extension": ".py",
   "mimetype": "text/x-python",
   "name": "python",
   "nbconvert_exporter": "python",
   "pygments_lexer": "ipython3",
   "version": "3.10.9"
  }
 },
 "nbformat": 4,
 "nbformat_minor": 5
}
